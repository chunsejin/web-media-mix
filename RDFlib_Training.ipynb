{
  "nbformat": 4,
  "nbformat_minor": 0,
  "metadata": {
    "colab": {
      "name": "RDFlib_Training.ipynb",
      "provenance": [],
      "collapsed_sections": []
    },
    "kernelspec": {
      "name": "python3",
      "display_name": "Python 3"
    },
    "language_info": {
      "name": "python"
    }
  },
  "cells": [
    {
      "cell_type": "markdown",
      "source": [
        "###이 문서는 파이선 코드로 직접적으로 노드를 정의하는 방법에 대해 공부한 문서이다."
      ],
      "metadata": {
        "id": "phGZy_xLVlyn"
      }
    },
    {
      "cell_type": "code",
      "execution_count": null,
      "metadata": {
        "id": "sU0VAXqJbFfW"
      },
      "outputs": [],
      "source": [
        "!pip install rdflib #rdflib 라이브러리 설치"
      ]
    },
    {
      "cell_type": "code",
      "source": [
        "!pip show rdflib #현재 rdflib 버전을 보여준다?"
      ],
      "metadata": {
        "id": "4tP80rHQbZX5"
      },
      "execution_count": null,
      "outputs": []
    },
    {
      "cell_type": "code",
      "source": [
        "from rdflib import Graph, Literal, BNode, Namespace, RDF, URIRef \n",
        "from rdflib.namespace import DC, DCTERMS, DOAP, FOAF, SKOS, OWL, RDF, RDFS, VOID, XMLNS, XSD\n",
        "# namesapce는 URIs를 위한것?? \n",
        "#RDFS 는 RDFS namespace\n",
        "#XSD는 XML Schema Datatypes namespace"
      ],
      "metadata": {
        "id": "i62179webrEx"
      },
      "execution_count": 30,
      "outputs": []
    },
    {
      "cell_type": "markdown",
      "source": [
        "RDFlib는 S-V-O 의 형태로 이루어진 db 형태를 말한다. \n",
        "S-V-O 란 주어 동사 목적어를 의미한다. 그래프는 S-V-O에는 URIs(resources) 또는 Literals(Values)가 들어간다.\n",
        "\n",
        "RDF는 URL 레펀러스(URIRef), 공백노드(BNode), 문자값(Literal) 등이 포함된 그래프이다.\n"
      ],
      "metadata": {
        "id": "gBbgx0WfJbuk"
      }
    },
    {
      "cell_type": "markdown",
      "source": [
        ""
      ],
      "metadata": {
        "id": "DHv2lNT4Vwlt"
      }
    },
    {
      "cell_type": "code",
      "source": [
        "g = Graph() #RDFLib의 Main Data Object는 Graph다. RDF 의 Subject , Rredicate ,Object를 담을 수 있다."
      ],
      "metadata": {
        "id": "UYowOFwebxBa"
      },
      "execution_count": 31,
      "outputs": []
    },
    {
      "cell_type": "code",
      "source": [
        "test = BNode() #BNode는 공백 노드를 의미한다."
      ],
      "metadata": {
        "id": "Nm8nt53aMDUN"
      },
      "execution_count": 32,
      "outputs": []
    },
    {
      "cell_type": "code",
      "source": [
        "g.add((test,RDF.type,FOAF.Person)) #이 노드의 타입은 사람이다.\n",
        "g.add((test,FOAF.name,Literal(\"김민관\"))) #그래프에 노드 추가, 공백노드, 이름형식, 값 을 넣었다?\n",
        "#사람 타입의 이름 추가\n",
        "g.add((test,FOAF.age,Literal(25))) #Literal 안에 \"\"없이 정수를 넣으면 정수로 인식한다.\n",
        "g.add((test,FOAF.gender,Literal(\"남성\"))) #성별을 정의했다. FOAF안에서 다양한 타입을 찾을 수 있다.\n",
        "\n",
        "\n",
        "\n"
      ],
      "metadata": {
        "colab": {
          "base_uri": "https://localhost:8080/"
        },
        "id": "hUSjebErMu7b",
        "outputId": "f5c8b77e-05dd-4867-b77e-ab8e55083106"
      },
      "execution_count": 42,
      "outputs": [
        {
          "output_type": "execute_result",
          "data": {
            "text/plain": [
              "<Graph identifier=Nc5d0590fddcd417ebf398900367c5b5b (<class 'rdflib.graph.Graph'>)>"
            ]
          },
          "metadata": {},
          "execution_count": 42
        }
      ]
    },
    {
      "cell_type": "code",
      "source": [
        "print(g.serialize()) #정의한 노드를 출력한다."
      ],
      "metadata": {
        "id": "3ZN8NB-bNDx6",
        "colab": {
          "base_uri": "https://localhost:8080/"
        },
        "outputId": "ed29fad0-613a-4e50-ec05-872b989e4bcf"
      },
      "execution_count": 43,
      "outputs": [
        {
          "output_type": "stream",
          "name": "stdout",
          "text": [
            "@prefix foaf: <http://xmlns.com/foaf/0.1/> .\n",
            "@prefix xsd: <http://www.w3.org/2001/XMLSchema#> .\n",
            "\n",
            "[] a foaf:Person ;\n",
            "    foaf:age 25 ;\n",
            "    foaf:gender \"Man\",\n",
            "        \"남성\" ;\n",
            "    foaf:name \"김민관\" .\n",
            "\n",
            "\n"
          ]
        }
      ]
    }
  ]
}