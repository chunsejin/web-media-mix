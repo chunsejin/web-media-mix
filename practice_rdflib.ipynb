{
  "nbformat": 4,
  "nbformat_minor": 0,
  "metadata": {
    "colab": {
      "name": "Untitled0.ipynb",
      "provenance": [],
      "collapsed_sections": [],
      "toc_visible": true,
      "authorship_tag": "ABX9TyNTjMr9bLL+E9cK4GHPkqcv",
      "include_colab_link": true
    },
    "kernelspec": {
      "name": "python3",
      "display_name": "Python 3"
    },
    "language_info": {
      "name": "python"
    }
  },
  "cells": [
    {
      "cell_type": "markdown",
      "metadata": {
        "id": "view-in-github",
        "colab_type": "text"
      },
      "source": [
        "<a href=\"https://colab.research.google.com/github/chunsejin/web-media-mix/blob/Giryeol_branch/practice_rdflib.ipynb\" target=\"_parent\"><img src=\"https://colab.research.google.com/assets/colab-badge.svg\" alt=\"Open In Colab\"/></a>"
      ]
    },
    {
      "cell_type": "markdown",
      "source": [
        "# RDFLib"
      ],
      "metadata": {
        "id": "I6B-bsBkrhlK"
      }
    },
    {
      "cell_type": "code",
      "source": [
        "!pip install rdflib # RDFLib 라이브러리 설치"
      ],
      "metadata": {
        "id": "ymE0CMo1t-Gw"
      },
      "execution_count": null,
      "outputs": []
    },
    {
      "cell_type": "code",
      "source": [
        "!pip show rdflib  # RDFLib 라이브러리 버전 확인"
      ],
      "metadata": {
        "colab": {
          "base_uri": "https://localhost:8080/"
        },
        "id": "NL37pmOOvJwB",
        "outputId": "fc222465-e8d6-4f88-d4fe-eaab08af04fb"
      },
      "execution_count": 5,
      "outputs": [
        {
          "output_type": "stream",
          "name": "stdout",
          "text": [
            "Name: rdflib\n",
            "Version: 6.1.1\n",
            "Summary: RDFLib is a Python library for working with RDF, a simple yet powerful language for representing information.\n",
            "Home-page: https://github.com/RDFLib/rdflib\n",
            "Author: Daniel 'eikeon' Krech\n",
            "Author-email: eikeon@eikeon.com\n",
            "License: bsd-3-clause\n",
            "Location: /usr/local/lib/python3.7/dist-packages\n",
            "Requires: importlib-metadata, isodate, pyparsing, setuptools\n",
            "Required-by: \n"
          ]
        }
      ]
    }
  ]
}