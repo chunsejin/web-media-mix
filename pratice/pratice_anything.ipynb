{
  "nbformat": 4,
  "nbformat_minor": 0,
  "metadata": {
    "colab": {
      "name": "Untitled0.ipynb",
      "provenance": [],
      "collapsed_sections": [],
      "toc_visible": true,
      "authorship_tag": "ABX9TyM1sgJwX8k4L1z+lTjZwYNA",
      "include_colab_link": true
    },
    "kernelspec": {
      "name": "python3",
      "display_name": "Python 3"
    },
    "language_info": {
      "name": "python"
    }
  },
  "cells": [
    {
      "cell_type": "markdown",
      "metadata": {
        "id": "view-in-github",
        "colab_type": "text"
      },
      "source": [
        "<a href=\"https://colab.research.google.com/github/chunsejin/web-media-mix/blob/Giryeol_branch/pratice_anything.ipynb\" target=\"_parent\"><img src=\"https://colab.research.google.com/assets/colab-badge.svg\" alt=\"Open In Colab\"/></a>"
      ]
    },
    {
      "cell_type": "markdown",
      "source": [
        "# RDFLib란"
      ],
      "metadata": {
        "id": "YO7tcHegv8hm"
      }
    },
    {
      "cell_type": "markdown",
      "source": [
        "RDF 문은 두 리소스 간의 관계를 표현합니다.\n",
        "주체와 객체는 관련된 두 리소스를 나타냅니다. 술어는 관계의 성격을 나타냅니다. 관계는 방향성(주체에서 객체로)으로 표현되며 RDF 속성이라고 합니다. RDF를 통해 우리는 단순한 말보다 훨씬 더 많은 의사 소통을 할 수 있습니다. 사람은 물론 기계도 이해할 수 있는 데이터를 전달할 수 있습니다."
      ],
      "metadata": {
        "id": "ZmCws3L2wgZl"
      }
    },
    {
      "cell_type": "markdown",
      "source": [
        "# networkX, graphViz"
      ],
      "metadata": {
        "id": "j5WfSHRow8gp"
      }
    },
    {
      "cell_type": "markdown",
      "source": [
        ""
      ],
      "metadata": {
        "id": "AYR46CLKxNY8"
      }
    }
  ]
}
